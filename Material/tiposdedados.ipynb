{
  "nbformat": 4,
  "nbformat_minor": 0,
  "metadata": {
    "colab": {
      "name": "tiposdedados.ipynb",
      "version": "0.3.2",
      "provenance": [],
      "collapsed_sections": []
    },
    "kernelspec": {
      "name": "python3",
      "display_name": "Python 3"
    }
  },
  "cells": [
    {
      "cell_type": "markdown",
      "metadata": {
        "id": "XIY6jw8EZvXY",
        "colab_type": "text"
      },
      "source": [
        "# Tipos de dados em Python\n",
        "\n",
        "Python contém uma particularidade em relação as linguagens de programação tradicionais, porque possui tipagem dinâmica. Mas o que isso significa? \n",
        "\n",
        "Normalmente, ao declarar uma variável você precisa definir o tipo de dado que ela irá esperar, por exemplo, se eu quero armazenar a idade de um usuário em uma variável, eu espero que o tipo de dado seja um número inteiro positivo. Veja que o tipo de dado que se espera receber é conhecido e por isso eu o defino explicitamente juntamente com o nome da variável.\n",
        "\n",
        "    \n",
        "```cpp\n",
        "  // em c\n",
        "  int idade;\n",
        "  idade = 23;\n",
        "```\n",
        "\n",
        "\n",
        "      \n",
        " Por exemplo na linguagem de programação **C**,  eu preciso definir explicitamente o tipo da variável como inteiro (int) e posteriormente o nome da variável que eu quero definir. Depois eu defino um valor à aquela variável para que possamos manipular.\n",
        " \n",
        " Em Python **não precisamos definir o tipo da variável**, porque é uma linguagem de tipagem dinâmica. Isso significa que o interpretador Python entende o valor que foi atribuído a uma variável e assim define o seu tipo. O código acima ficaria o seguinte:\n",
        "```python\n",
        "    # em python\n",
        "    idade = 22\n",
        "```    \n",
        "    \n",
        "Mas como sabemos se o interpretador entendeu a minha variável? Para isso podemos perguntar ao interpretador qual o tipo da variável utilizando a função type.\n",
        "\n",
        "Veja no exemplo abaixo:\n",
        "\n"
      ]
    },
    {
      "cell_type": "code",
      "metadata": {
        "id": "6VHyR4rla7g4",
        "colab_type": "code",
        "colab": {
          "base_uri": "https://localhost:8080/",
          "height": 34
        },
        "outputId": "d4b86b95-acdb-4e07-d8dc-0e44bb1287fe"
      },
      "source": [
        "idade = 23\n",
        "type(idade)"
      ],
      "execution_count": 2,
      "outputs": [
        {
          "output_type": "execute_result",
          "data": {
            "text/plain": [
              "int"
            ]
          },
          "metadata": {
            "tags": []
          },
          "execution_count": 2
        }
      ]
    },
    {
      "cell_type": "markdown",
      "metadata": {
        "id": "xyHB5Zk9dYpF",
        "colab_type": "text"
      },
      "source": [
        "Simples né?\n",
        "\n",
        "Mas quais os tipos de dados que o interpretador Python reconhece?\n",
        "\n",
        "##Tipos de Dados: Numérico\n",
        "\n",
        "### Inteiro - int\n",
        "\n",
        "Conforme mostrado anteriormente o tipo de dado int armazena números inteiros, positivos ou negativos.\n",
        "\n",
        "Exemplos:\n",
        "\n",
        "> a = 1\n",
        "\n",
        "> b = c = -11\n",
        "\n",
        "> a, b = 33333333333, 12\n",
        "\n",
        "### Real - float\n",
        "\n",
        "O tipo float armazena números reais em ponto flutuante.\n",
        "\n",
        "Exemplos:\n",
        "\n",
        "> a = 12.5\n",
        "\n",
        "> b = c = 1112.544552\n",
        "\n",
        "> d = 0.00000013\n",
        "\n",
        "> a, b, c = -10.43, 13.3333 , 0.0000022\n",
        "\n",
        "### Complexo - complex \n",
        "\n",
        "O tipo complex armazena números complexos da forma \n",
        "> **x** + **y**j\n",
        "\n",
        "Onde x e y  são números reais e o j indica a parte imaginária do número.\n",
        "\n",
        "Exemplos: \n",
        "\n",
        "> a = 12+3j\n",
        "\n",
        "> b = -7-5j\n",
        "\n",
        "\n"
      ]
    },
    {
      "cell_type": "code",
      "metadata": {
        "id": "Ze1BcUM-grVA",
        "colab_type": "code",
        "colab": {
          "base_uri": "https://localhost:8080/",
          "height": 68
        },
        "outputId": "68ec3529-f877-43cb-db97-d907e88d86aa"
      },
      "source": [
        "a, b, c = -12 , -12.5 , -12+3j\n",
        "print(\"tipo da variável a:\" ,type(a))\n",
        "print(\"tipo da variável b:\" ,type(b))\n",
        "print(\"tipo da variável c:\" ,type(c))"
      ],
      "execution_count": 11,
      "outputs": [
        {
          "output_type": "stream",
          "text": [
            "tipo da variável a: <class 'int'>\n",
            "tipo da variável b: <class 'float'>\n",
            "tipo da variável c: <class 'complex'>\n"
          ],
          "name": "stdout"
        }
      ]
    },
    {
      "cell_type": "markdown",
      "metadata": {
        "id": "Mt7tISJ4hwbe",
        "colab_type": "text"
      },
      "source": [
        "##Tipos de Dados: Booleano \n",
        "\n",
        "###Booleano - bool\n",
        "\n",
        "As variáveis booleanas podem conter dois valores: verdadeiro (**true**) ou falso (**false**).\n",
        "Podem ser definidos da seguinte maneira:\n",
        "\n",
        "> a = True\n",
        "\n",
        "> b = False"
      ]
    },
    {
      "cell_type": "code",
      "metadata": {
        "id": "k_vNaAWosFxk",
        "colab_type": "code",
        "colab": {
          "base_uri": "https://localhost:8080/",
          "height": 51
        },
        "outputId": "ad00ec53-ab57-4afb-8852-164ccc8b36a8"
      },
      "source": [
        "a = True\n",
        "b = False\n",
        "\n",
        "print(\"Tipo da variável a:\", type(a))\n",
        "print(\"Tipo da variável b:\", type(b))\n"
      ],
      "execution_count": 12,
      "outputs": [
        {
          "output_type": "stream",
          "text": [
            "Tipo da variável a: <class 'bool'>\n",
            "Tipo da variável b: <class 'bool'>\n"
          ],
          "name": "stdout"
        }
      ]
    },
    {
      "cell_type": "markdown",
      "metadata": {
        "id": "oBuEJ0NysprT",
        "colab_type": "text"
      },
      "source": [
        "##Tipos de Dados: Texto\n",
        "\n",
        "### String - str\n",
        "\n",
        "Para manipular texto em forma de caracteres usamos o tipo de dado string, que em tradução livre significa cadeia de caracteres, ou sequência de caracteres.\n",
        "\n",
        "Toda string deve estar contida dentro de aspas (\" \"), simples ou duplas. \n",
        "\n",
        "Por exemplo:\n",
        "\n",
        "> nome = \"Higor\"\n",
        "\n",
        "**Caracteres sem aspas são utilizados para definir nomes de variáveis ou palavras da linguagem.**\n",
        "\n",
        "> a = \"Meu nome é Higor e tenho 22 anos.\"\n",
        "\n",
        "Eu posso escrever números em forma de strings também, desde que eu os coloque entre aspas.\n",
        "\n",
        "> idade = \"22.5\"\n",
        "\n"
      ]
    },
    {
      "cell_type": "code",
      "metadata": {
        "id": "mD6dY2nPuGwk",
        "colab_type": "code",
        "colab": {
          "base_uri": "https://localhost:8080/",
          "height": 68
        },
        "outputId": "7e85153f-8d78-4f2a-a660-6643616f305e"
      },
      "source": [
        "nome = \"Higor Emanuel Souza Silva\"\n",
        "\n",
        "print(\"Tipo da variável nome:\", type(nome))\n",
        "\n",
        "idade = \"22.5\"\n",
        "\n",
        "print(\"Tipo da variável idade:\", type(idade))\n",
        "\n",
        "idade2 = 22.5 #sem aspas para vocês verem a diferença.\n",
        "\n",
        "print(\"Tipo da variável idade2:\", type(idade2))"
      ],
      "execution_count": 15,
      "outputs": [
        {
          "output_type": "stream",
          "text": [
            "Tipo da variável nome: <class 'str'>\n",
            "Tipo da variável idade: <class 'str'>\n",
            "Tipo da variável idade2: <class 'float'>\n"
          ],
          "name": "stdout"
        }
      ]
    },
    {
      "cell_type": "markdown",
      "metadata": {
        "id": "9r6CjZAdvRRE",
        "colab_type": "text"
      },
      "source": [
        "\n",
        "\n",
        "---\n",
        "\n",
        "###Esses foram os tipos de dados básicos. Agora vamos colocar a mão na massa e praticar um pouco?\n",
        "\n",
        "##[Exercícios]()\n",
        "\n",
        "\n",
        "###Próximo tópico: [Entrada e Saída de dados](https://github.com/higoress/MinicursoPython#python-3-para-todos)\n",
        "\n",
        "###Anterior: [Introdução](https://github.com/higoress/MinicursoPython#python-3-para-todos)\n",
        "\n",
        "\n",
        "\n",
        "\n",
        "\n"
      ]
    }
  ]
}